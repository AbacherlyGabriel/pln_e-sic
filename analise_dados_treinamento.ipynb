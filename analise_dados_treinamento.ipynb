{
 "cells": [
  {
   "cell_type": "code",
   "execution_count": 1,
   "id": "345856fd-0525-402d-9931-05404f860823",
   "metadata": {},
   "outputs": [],
   "source": [
    "import pandas as pd"
   ]
  },
  {
   "cell_type": "code",
   "execution_count": 2,
   "id": "15d01bc8-b32c-4224-9629-d4d796134c20",
   "metadata": {},
   "outputs": [],
   "source": [
    "df_treino = pd.read_excel('ep1.xlsx', sheet_name='TREINO')"
   ]
  },
  {
   "cell_type": "code",
   "execution_count": 3,
   "id": "0fc41489-f089-4313-9171-de86fddf13cf",
   "metadata": {},
   "outputs": [],
   "source": [
    "df_vocabulario = pd.read_excel('ep1.xlsx', sheet_name='VOCABULARIO')"
   ]
  },
  {
   "cell_type": "markdown",
   "id": "f7f77007",
   "metadata": {},
   "source": [
    "### Dados de Treino"
   ]
  },
  {
   "cell_type": "code",
   "execution_count": 4,
   "id": "d80f9164-dc27-4856-ae79-e9e5ab4ff053",
   "metadata": {},
   "outputs": [
    {
     "data": {
      "text/html": [
       "<div>\n",
       "<style scoped>\n",
       "    .dataframe tbody tr th:only-of-type {\n",
       "        vertical-align: middle;\n",
       "    }\n",
       "\n",
       "    .dataframe tbody tr th {\n",
       "        vertical-align: top;\n",
       "    }\n",
       "\n",
       "    .dataframe thead th {\n",
       "        text-align: right;\n",
       "    }\n",
       "</style>\n",
       "<table border=\"1\" class=\"dataframe\">\n",
       "  <thead>\n",
       "    <tr style=\"text-align: right;\">\n",
       "      <th></th>\n",
       "      <th>texto</th>\n",
       "      <th>setor</th>\n",
       "      <th>profissao</th>\n",
       "    </tr>\n",
       "  </thead>\n",
       "  <tbody>\n",
       "    <tr>\n",
       "      <th>0</th>\n",
       "      <td>- Dados de qualquer empreendimento da agricult...</td>\n",
       "      <td>economia</td>\n",
       "      <td>academic</td>\n",
       "    </tr>\n",
       "    <tr>\n",
       "      <th>1</th>\n",
       "      <td>- Quanto cada regional da Funai na região Nort...</td>\n",
       "      <td>ciencia</td>\n",
       "      <td>other</td>\n",
       "    </tr>\n",
       "    <tr>\n",
       "      <th>2</th>\n",
       "      <td>- Quantos cargos de Técnico Bancário existem n...</td>\n",
       "      <td>economia</td>\n",
       "      <td>other</td>\n",
       "    </tr>\n",
       "    <tr>\n",
       "      <th>3</th>\n",
       "      <td>- Quantos computadores são utilizados por este...</td>\n",
       "      <td>ciencia</td>\n",
       "      <td>other</td>\n",
       "    </tr>\n",
       "    <tr>\n",
       "      <th>4</th>\n",
       "      <td>- Solicito por gentileza, a informação sobre a...</td>\n",
       "      <td>ciencia</td>\n",
       "      <td>other</td>\n",
       "    </tr>\n",
       "  </tbody>\n",
       "</table>\n",
       "</div>"
      ],
      "text/plain": [
       "                                               texto     setor profissao\n",
       "0  - Dados de qualquer empreendimento da agricult...  economia  academic\n",
       "1  - Quanto cada regional da Funai na região Nort...   ciencia     other\n",
       "2  - Quantos cargos de Técnico Bancário existem n...  economia     other\n",
       "3  - Quantos computadores são utilizados por este...   ciencia     other\n",
       "4  - Solicito por gentileza, a informação sobre a...   ciencia     other"
      ]
     },
     "execution_count": 4,
     "metadata": {},
     "output_type": "execute_result"
    }
   ],
   "source": [
    "# Amostra DF de Treinamento\n",
    "\n",
    "\n",
    "df_treino.head()"
   ]
  },
  {
   "cell_type": "code",
   "execution_count": 5,
   "id": "957b7b0a-34af-4b47-972b-8dacbf1e36d0",
   "metadata": {},
   "outputs": [
    {
     "data": {
      "text/plain": [
       "(16520, 3)"
      ]
     },
     "execution_count": 5,
     "metadata": {},
     "output_type": "execute_result"
    }
   ],
   "source": [
    "# Dimensoes DF de Treinamento\n",
    "\n",
    "\n",
    "df_treino.shape"
   ]
  },
  {
   "cell_type": "markdown",
   "id": "d73aab74",
   "metadata": {},
   "source": [
    "#### Validação: Setor"
   ]
  },
  {
   "cell_type": "code",
   "execution_count": 12,
   "id": "427c0ecf",
   "metadata": {},
   "outputs": [
    {
     "data": {
      "text/html": [
       "<div>\n",
       "<style scoped>\n",
       "    .dataframe tbody tr th:only-of-type {\n",
       "        vertical-align: middle;\n",
       "    }\n",
       "\n",
       "    .dataframe tbody tr th {\n",
       "        vertical-align: top;\n",
       "    }\n",
       "\n",
       "    .dataframe thead tr th {\n",
       "        text-align: left;\n",
       "    }\n",
       "\n",
       "    .dataframe thead tr:last-of-type th {\n",
       "        text-align: right;\n",
       "    }\n",
       "</style>\n",
       "<table border=\"1\" class=\"dataframe\">\n",
       "  <thead>\n",
       "    <tr>\n",
       "      <th></th>\n",
       "      <th>setor</th>\n",
       "      <th colspan=\"2\" halign=\"left\">texto</th>\n",
       "    </tr>\n",
       "    <tr>\n",
       "      <th></th>\n",
       "      <th>count</th>\n",
       "      <th>count</th>\n",
       "      <th>nunique</th>\n",
       "    </tr>\n",
       "    <tr>\n",
       "      <th>setor</th>\n",
       "      <th></th>\n",
       "      <th></th>\n",
       "      <th></th>\n",
       "    </tr>\n",
       "  </thead>\n",
       "  <tbody>\n",
       "    <tr>\n",
       "      <th>ciencia</th>\n",
       "      <td>3006</td>\n",
       "      <td>3006</td>\n",
       "      <td>2632</td>\n",
       "    </tr>\n",
       "    <tr>\n",
       "      <th>economia</th>\n",
       "      <td>3011</td>\n",
       "      <td>3011</td>\n",
       "      <td>2969</td>\n",
       "    </tr>\n",
       "    <tr>\n",
       "      <th>educacao</th>\n",
       "      <td>2901</td>\n",
       "      <td>2901</td>\n",
       "      <td>2292</td>\n",
       "    </tr>\n",
       "    <tr>\n",
       "      <th>governo</th>\n",
       "      <td>2899</td>\n",
       "      <td>2899</td>\n",
       "      <td>2615</td>\n",
       "    </tr>\n",
       "    <tr>\n",
       "      <th>saude</th>\n",
       "      <td>2386</td>\n",
       "      <td>2386</td>\n",
       "      <td>2283</td>\n",
       "    </tr>\n",
       "    <tr>\n",
       "      <th>trabalho</th>\n",
       "      <td>2317</td>\n",
       "      <td>2317</td>\n",
       "      <td>2074</td>\n",
       "    </tr>\n",
       "  </tbody>\n",
       "</table>\n",
       "</div>"
      ],
      "text/plain": [
       "         setor texto        \n",
       "         count count nunique\n",
       "setor                       \n",
       "ciencia   3006  3006    2632\n",
       "economia  3011  3011    2969\n",
       "educacao  2901  2901    2292\n",
       "governo   2899  2899    2615\n",
       "saude     2386  2386    2283\n",
       "trabalho  2317  2317    2074"
      ]
     },
     "execution_count": 12,
     "metadata": {},
     "output_type": "execute_result"
    }
   ],
   "source": [
    "# Há textos duplicados\n",
    "\n",
    "\n",
    "df_treino.groupby('setor').agg({'setor': 'count', 'texto': ['count', 'nunique']})"
   ]
  },
  {
   "cell_type": "code",
   "execution_count": 29,
   "id": "910ab382",
   "metadata": {},
   "outputs": [],
   "source": [
    "# Removendo Duplicidades\n",
    "\n",
    "\n",
    "df_setor = df_treino[['texto', 'setor']].drop_duplicates()"
   ]
  },
  {
   "cell_type": "code",
   "execution_count": 30,
   "id": "e755b749",
   "metadata": {},
   "outputs": [
    {
     "data": {
      "text/plain": [
       "economia    19.973091\n",
       "ciencia     17.706021\n",
       "governo     17.591658\n",
       "educacao    15.418769\n",
       "saude       15.358224\n",
       "trabalho    13.952237\n",
       "Name: setor, dtype: float64"
      ]
     },
     "execution_count": 30,
     "metadata": {},
     "output_type": "execute_result"
    }
   ],
   "source": [
    "# Validando distribuição dos setores\n",
    "# Estão balanceados?\n",
    "\n",
    "\n",
    "dist_setor = df_setor['setor'].value_counts()\n",
    "dist_setor_perc = (dist_setor / dist_setor.sum()) * 100\n",
    "dist_setor_perc"
   ]
  },
  {
   "cell_type": "markdown",
   "id": "9452fd23",
   "metadata": {},
   "source": [
    "#### Validação: Profissão"
   ]
  },
  {
   "cell_type": "code",
   "execution_count": 23,
   "id": "3f9e61bb",
   "metadata": {},
   "outputs": [
    {
     "data": {
      "text/html": [
       "<div>\n",
       "<style scoped>\n",
       "    .dataframe tbody tr th:only-of-type {\n",
       "        vertical-align: middle;\n",
       "    }\n",
       "\n",
       "    .dataframe tbody tr th {\n",
       "        vertical-align: top;\n",
       "    }\n",
       "\n",
       "    .dataframe thead tr th {\n",
       "        text-align: left;\n",
       "    }\n",
       "\n",
       "    .dataframe thead tr:last-of-type th {\n",
       "        text-align: right;\n",
       "    }\n",
       "</style>\n",
       "<table border=\"1\" class=\"dataframe\">\n",
       "  <thead>\n",
       "    <tr>\n",
       "      <th></th>\n",
       "      <th>setor</th>\n",
       "      <th colspan=\"2\" halign=\"left\">texto</th>\n",
       "    </tr>\n",
       "    <tr>\n",
       "      <th></th>\n",
       "      <th>count</th>\n",
       "      <th>count</th>\n",
       "      <th>nunique</th>\n",
       "    </tr>\n",
       "    <tr>\n",
       "      <th>profissao</th>\n",
       "      <th></th>\n",
       "      <th></th>\n",
       "      <th></th>\n",
       "    </tr>\n",
       "  </thead>\n",
       "  <tbody>\n",
       "    <tr>\n",
       "      <th>academic</th>\n",
       "      <td>4130</td>\n",
       "      <td>4130</td>\n",
       "      <td>3565</td>\n",
       "    </tr>\n",
       "    <tr>\n",
       "      <th>government</th>\n",
       "      <td>4130</td>\n",
       "      <td>4130</td>\n",
       "      <td>3059</td>\n",
       "    </tr>\n",
       "    <tr>\n",
       "      <th>other</th>\n",
       "      <td>4130</td>\n",
       "      <td>4130</td>\n",
       "      <td>3865</td>\n",
       "    </tr>\n",
       "    <tr>\n",
       "      <th>private</th>\n",
       "      <td>4130</td>\n",
       "      <td>4130</td>\n",
       "      <td>4009</td>\n",
       "    </tr>\n",
       "  </tbody>\n",
       "</table>\n",
       "</div>"
      ],
      "text/plain": [
       "           setor texto        \n",
       "           count count nunique\n",
       "profissao                     \n",
       "academic    4130  4130    3565\n",
       "government  4130  4130    3059\n",
       "other       4130  4130    3865\n",
       "private     4130  4130    4009"
      ]
     },
     "execution_count": 23,
     "metadata": {},
     "output_type": "execute_result"
    }
   ],
   "source": [
    "# Há textos duplicados\n",
    "\n",
    "\n",
    "df_treino.groupby('profissao').agg({'setor': 'count', 'texto': ['count', 'nunique']})"
   ]
  },
  {
   "cell_type": "code",
   "execution_count": 31,
   "id": "2d330d6e",
   "metadata": {},
   "outputs": [],
   "source": [
    "# Removendo Duplicidades\n",
    "\n",
    "\n",
    "df_profissao = df_treino[['texto', 'profissao']].drop_duplicates()"
   ]
  },
  {
   "cell_type": "code",
   "execution_count": 32,
   "id": "1db8b498",
   "metadata": {},
   "outputs": [
    {
     "data": {
      "text/plain": [
       "private       27.652090\n",
       "other         26.658849\n",
       "academic      24.589599\n",
       "government    21.099462\n",
       "Name: profissao, dtype: float64"
      ]
     },
     "execution_count": 32,
     "metadata": {},
     "output_type": "execute_result"
    }
   ],
   "source": [
    "# Validando distribuição dos setores \n",
    "# Estão Balanceados?\n",
    "\n",
    "\n",
    "dist_profissao = df_profissao['profissao'].value_counts()\n",
    "dist_profissao_perc = (dist_profissao / dist_profissao.sum()) * 100\n",
    "dist_profissao_perc"
   ]
  },
  {
   "cell_type": "markdown",
   "id": "9614b1ae",
   "metadata": {},
   "source": [
    "#### Análise dos Textos"
   ]
  },
  {
   "cell_type": "code",
   "execution_count": 33,
   "id": "d32c4ab4",
   "metadata": {},
   "outputs": [],
   "source": [
    "#"
   ]
  },
  {
   "cell_type": "markdown",
   "id": "aed73e7d",
   "metadata": {},
   "source": [
    "### Vocabulário"
   ]
  },
  {
   "cell_type": "code",
   "execution_count": 6,
   "id": "47cfe4fb-e8df-4218-8fd3-076f8550e1ab",
   "metadata": {},
   "outputs": [
    {
     "data": {
      "text/html": [
       "<div>\n",
       "<style scoped>\n",
       "    .dataframe tbody tr th:only-of-type {\n",
       "        vertical-align: middle;\n",
       "    }\n",
       "\n",
       "    .dataframe tbody tr th {\n",
       "        vertical-align: top;\n",
       "    }\n",
       "\n",
       "    .dataframe thead th {\n",
       "        text-align: right;\n",
       "    }\n",
       "</style>\n",
       "<table border=\"1\" class=\"dataframe\">\n",
       "  <thead>\n",
       "    <tr style=\"text-align: right;\">\n",
       "      <th></th>\n",
       "      <th>texto</th>\n",
       "    </tr>\n",
       "  </thead>\n",
       "  <tbody>\n",
       "    <tr>\n",
       "      <th>0</th>\n",
       "      <td>- Dados de aderência da população à vacina con...</td>\n",
       "    </tr>\n",
       "    <tr>\n",
       "      <th>1</th>\n",
       "      <td>- Dados de qualquer empreendimento da agricult...</td>\n",
       "    </tr>\n",
       "    <tr>\n",
       "      <th>2</th>\n",
       "      <td>- Listagem de estabelecimentos de saúde e proc...</td>\n",
       "    </tr>\n",
       "    <tr>\n",
       "      <th>3</th>\n",
       "      <td>- Listagem de estabelecimentos de saúde e proc...</td>\n",
       "    </tr>\n",
       "    <tr>\n",
       "      <th>4</th>\n",
       "      <td>- Número de cisternas, por tipo, por município...</td>\n",
       "    </tr>\n",
       "  </tbody>\n",
       "</table>\n",
       "</div>"
      ],
      "text/plain": [
       "                                               texto\n",
       "0  - Dados de aderência da população à vacina con...\n",
       "1  - Dados de qualquer empreendimento da agricult...\n",
       "2  - Listagem de estabelecimentos de saúde e proc...\n",
       "3  - Listagem de estabelecimentos de saúde e proc...\n",
       "4  - Número de cisternas, por tipo, por município..."
      ]
     },
     "execution_count": 6,
     "metadata": {},
     "output_type": "execute_result"
    }
   ],
   "source": [
    "# Amostra Vocabulario\n",
    "\n",
    "\n",
    "df_vocabulario.head()"
   ]
  },
  {
   "cell_type": "code",
   "execution_count": 7,
   "id": "25fd3c3b-9f48-440b-8d14-4c87939db1d6",
   "metadata": {},
   "outputs": [
    {
     "name": "stdout",
     "output_type": "stream",
     "text": [
      "<class 'pandas.core.frame.DataFrame'>\n",
      "RangeIndex: 19800 entries, 0 to 19799\n",
      "Data columns (total 1 columns):\n",
      " #   Column  Non-Null Count  Dtype \n",
      "---  ------  --------------  ----- \n",
      " 0   texto   19800 non-null  object\n",
      "dtypes: object(1)\n",
      "memory usage: 154.8+ KB\n"
     ]
    }
   ],
   "source": [
    "# Validando DF de Treinamento\n",
    "\n",
    "\n",
    "df_vocabulario.info()"
   ]
  },
  {
   "cell_type": "code",
   "execution_count": 12,
   "id": "2504ab8d-6974-4e7c-98ee-8c7b563b7885",
   "metadata": {},
   "outputs": [],
   "source": [
    "# Convertendo Arquivos em .csv\n",
    "\n",
    "\n",
    "#df_treino.to_csv('ep1.csv', index=False)\n",
    "#df_vocabulario.to_csv('vocabulario.csv', index=False)"
   ]
  }
 ],
 "metadata": {
  "kernelspec": {
   "display_name": "Python 3 (ipykernel)",
   "language": "python",
   "name": "python3"
  },
  "language_info": {
   "codemirror_mode": {
    "name": "ipython",
    "version": 3
   },
   "file_extension": ".py",
   "mimetype": "text/x-python",
   "name": "python",
   "nbconvert_exporter": "python",
   "pygments_lexer": "ipython3",
   "version": "3.9.6"
  }
 },
 "nbformat": 4,
 "nbformat_minor": 5
}
